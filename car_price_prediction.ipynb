{
  "cells": [
    {
      "cell_type": "code",
      "execution_count": null,
      "metadata": {
        "id": "14kWXUnJwIBU"
      },
      "outputs": [],
      "source": [
        "import numpy as np\n",
        "import pandas as pd\n",
        "import seaborn as sns\n",
        "import matplotlib.pyplot as plt\n",
        "import warnings\n",
        "warnings.filterwarnings('ignore')"
      ]
    },
    {
      "cell_type": "code",
      "execution_count": null,
      "metadata": {
        "colab": {
          "base_uri": "https://localhost:8080/"
        },
        "id": "3QSjJhJqwLxS",
        "outputId": "3e02ee77-2a5e-43c7-c9f5-d1ba658f915a"
      },
      "outputs": [],
      "source": [
        "import matplotlib\n",
        "np.__version__, pd.__version__, sns.__version__, matplotlib.__version__"
      ]
    },
    {
      "cell_type": "markdown",
      "metadata": {
        "id": "BQDbjlagweLj"
      },
      "source": [
        "**1. Load Data**"
      ]
    },
    {
      "cell_type": "code",
      "execution_count": null,
      "metadata": {
        "id": "B6VMUg2ewigV"
      },
      "outputs": [],
      "source": [
        "df = pd.read_csv('dataset/cars.csv')"
      ]
    },
    {
      "cell_type": "code",
      "execution_count": null,
      "metadata": {
        "colab": {
          "base_uri": "https://localhost:8080/",
          "height": 504
        },
        "id": "zZKRDpZow8pz",
        "outputId": "774f5674-be19-4cde-882f-b582e1e5df20"
      },
      "outputs": [],
      "source": [
        "df.head()"
      ]
    },
    {
      "cell_type": "code",
      "execution_count": null,
      "metadata": {
        "colab": {
          "base_uri": "https://localhost:8080/"
        },
        "id": "MLnQl1kvw-Dq",
        "outputId": "9133f734-804e-493c-c2ae-a46f2818daa7"
      },
      "outputs": [],
      "source": [
        "df.shape"
      ]
    },
    {
      "cell_type": "code",
      "execution_count": null,
      "metadata": {
        "colab": {
          "base_uri": "https://localhost:8080/",
          "height": 300
        },
        "id": "YCEVN6w-xB7n",
        "outputId": "2717731f-d30c-4622-aac1-740202270ec2"
      },
      "outputs": [],
      "source": [
        "df.describe()"
      ]
    },
    {
      "cell_type": "code",
      "execution_count": null,
      "metadata": {
        "colab": {
          "base_uri": "https://localhost:8080/"
        },
        "id": "V81nNAdLxGWy",
        "outputId": "047574f2-bbe6-47db-a09e-e56068a4676e"
      },
      "outputs": [],
      "source": [
        "df.info()"
      ]
    },
    {
      "cell_type": "code",
      "execution_count": null,
      "metadata": {
        "colab": {
          "base_uri": "https://localhost:8080/"
        },
        "id": "Dz3kjHR0xMjs",
        "outputId": "6ae5aaeb-e830-41cf-b3e3-e51c5059e736"
      },
      "outputs": [],
      "source": [
        "df.columns"
      ]
    },
    {
      "cell_type": "markdown",
      "metadata": {
        "id": "SfgjK1YpxXyq"
      },
      "source": [
        "**2 Explatory Data Analysis**"
      ]
    },
    {
      "cell_type": "markdown",
      "metadata": {},
      "source": [
        "2.1 Sanitizing the data\n",
        "\n",
        "First all the unnecessary feature data are to be removed such as units"
      ]
    },
    {
      "cell_type": "code",
      "execution_count": null,
      "metadata": {},
      "outputs": [],
      "source": [
        "# Here we define a function to return float values for features with pattern \"floatvalue + unit\"\n",
        "# Example for feature km_driven, if data is \"12345 km\", then 12345.00 is returned\n",
        "\n",
        "def getFloatValues(featureValues):\n",
        "    # all values are converted to string in case there are any float or integer values\n",
        "    featureValues = featureValues.astype(str)\n",
        "\n",
        "    # the first part of values are separated and converted to float values and mapped\n",
        "    # in case the values can not be converted to float, then values are set to 0\n",
        "    for index, x in enumerate(featureValues):\n",
        "        try:\n",
        "            featureValues[index] = float(x.split(' ')[0])\n",
        "        except ValueError:\n",
        "            featureValues[index] = 0\n",
        "\n",
        "    return featureValues"
      ]
    },
    {
      "cell_type": "code",
      "execution_count": null,
      "metadata": {},
      "outputs": [],
      "source": [
        "# For feature name, the brand name of the car is kept. The first word in the name is assumed to be brand name\n",
        "df['name'] = df['name'].map(lambda x : x.split(' ')[0])\n",
        "\n",
        "# For feature mileage, the unit kmpl is removed and values converted into float values\n",
        "df['mileage'] = getFloatValues(df['mileage'])\n",
        "df['mileage'] = df['mileage'].astype('float')\n",
        "\n",
        "# For feature engine, the unit CC is removed and values converted into float values\n",
        "df['engine'] = getFloatValues(df['engine'])\n",
        "df['engine'] = df['engine'].astype('float')\n",
        "\n",
        "# For feature max_power, the unit bhp is removed and values converte into float values\n",
        "df['max_power'] = getFloatValues(df['max_power'])\n",
        "df['max_power'] = df['max_power'].astype('float')\n",
        "\n",
        "# For feature torque, it is dropped due insignifcance to car company\n",
        "df = df.drop('torque', axis = 1)\n",
        "\n",
        "# For feature fuel, all the rows with values LPG and CNG are removed\n",
        "df = df[~df['fuel'].isin(['CNG', 'LPG'])]\n",
        "\n",
        "df.head()"
      ]
    },
    {
      "cell_type": "code",
      "execution_count": null,
      "metadata": {},
      "outputs": [],
      "source": [
        "df.shape"
      ]
    },
    {
      "cell_type": "code",
      "execution_count": null,
      "metadata": {},
      "outputs": [],
      "source": [
        "df.info()"
      ]
    },
    {
      "cell_type": "markdown",
      "metadata": {
        "id": "egsP54AzyXl_"
      },
      "source": [
        "2.2 Univariate analysis"
      ]
    },
    {
      "cell_type": "markdown",
      "metadata": {
        "id": "rAjDriDUyjRX"
      },
      "source": [
        "Countplot"
      ]
    },
    {
      "cell_type": "code",
      "execution_count": null,
      "metadata": {
        "colab": {
          "base_uri": "https://localhost:8080/",
          "height": 467
        },
        "id": "Dfcvq-tGykib",
        "outputId": "0abe0d8e-49c7-403e-e14e-4e171038c5ac"
      },
      "outputs": [],
      "source": [
        "# Let's see how many individual and dealer sellers are there\n",
        "sns.countplot(data = df, x = 'seller_type')"
      ]
    },
    {
      "cell_type": "markdown",
      "metadata": {
        "id": "CScVgtxRzMnj"
      },
      "source": [
        "Distribution plot"
      ]
    },
    {
      "cell_type": "code",
      "execution_count": null,
      "metadata": {
        "colab": {
          "base_uri": "https://localhost:8080/",
          "height": 523
        },
        "id": "aBB4GiShzO91",
        "outputId": "58098aae-66e1-4363-fd22-4ea05da46e76"
      },
      "outputs": [],
      "source": [
        "# Distribution plot for selling prices\n",
        "sns.displot(data = df, x = 'selling_price')"
      ]
    },
    {
      "cell_type": "code",
      "execution_count": null,
      "metadata": {},
      "outputs": [],
      "source": [
        "bigSellingPrices = df['selling_price'].map(lambda x: x if x > 500000 else 0)\n",
        "bigSellingPrices = bigSellingPrices[bigSellingPrices > 1000000]\n",
        "bigSellingPrices.max()"
      ]
    },
    {
      "cell_type": "markdown",
      "metadata": {
        "id": "_y6nLQsXzeUm"
      },
      "source": [
        "2.2 Multivariate Analysis\n",
        "\n",
        "Multiple variable exploratory analysis\n",
        "\n",
        "Boxplot"
      ]
    },
    {
      "cell_type": "code",
      "execution_count": null,
      "metadata": {
        "colab": {
          "base_uri": "https://localhost:8080/",
          "height": 482
        },
        "id": "XNzZs9qhzga-",
        "outputId": "b6019f73-f4af-4747-a48f-99f3e6953250"
      },
      "outputs": [],
      "source": [
        "# Box plot for 'owner' and 'selling_price'\n",
        "sns.boxplot(x = df[\"owner\"], y = df[\"selling_price\"]);\n",
        "plt.ylabel(\"Selling Price\")\n",
        "plt.xlabel(\"Owner\")"
      ]
    },
    {
      "cell_type": "markdown",
      "metadata": {
        "id": "ny8O3WFn0E4E"
      },
      "source": [
        "Scatterplot"
      ]
    },
    {
      "cell_type": "code",
      "execution_count": null,
      "metadata": {
        "colab": {
          "base_uri": "https://localhost:8080/",
          "height": 482
        },
        "id": "8EwMYKN70PFt",
        "outputId": "67e13301-c7b0-40f4-8915-0cad1d903ea1"
      },
      "outputs": [],
      "source": [
        "# Scatter plot for mileage and selling price with respect to fuel type\n",
        "\n",
        "sns.scatterplot(x = df['mileage'], y = df['selling_price'], hue =df['fuel'])"
      ]
    },
    {
      "cell_type": "markdown",
      "metadata": {
        "id": "jkO-6uzG0m-E"
      },
      "source": [
        "Corelation Matrix"
      ]
    },
    {
      "cell_type": "code",
      "execution_count": null,
      "metadata": {
        "colab": {
          "base_uri": "https://localhost:8080/",
          "height": 646
        },
        "id": "Ksw1RBoz0reL",
        "outputId": "99b5101c-f630-422d-f4e5-86c171239a2e"
      },
      "outputs": [],
      "source": [
        "# Let's check out heatmap\n",
        "\n",
        "plt.figure(figsize = (15, 8))\n",
        "sns.heatmap(df.corr(), annot=True, cmap=\"coolwarm\")"
      ]
    },
    {
      "cell_type": "markdown",
      "metadata": {},
      "source": [
        "Currently, feature max_power and engine have shown strong correlation to selling price. However, the above graph does not include categorical features."
      ]
    },
    {
      "cell_type": "markdown",
      "metadata": {
        "id": "tFuwhA_z1JRi"
      },
      "source": [
        "Label Encoding\n",
        "\n",
        "Lets encode the labels for the present categorical featues"
      ]
    },
    {
      "cell_type": "code",
      "execution_count": null,
      "metadata": {
        "colab": {
          "base_uri": "https://localhost:8080/"
        },
        "id": "9PUGlAnL1K-A",
        "outputId": "1d963733-3821-4771-cf96-7fc42e0c035f"
      },
      "outputs": [],
      "source": [
        "# Importing the LabelEncoder\n",
        "from sklearn.preprocessing import LabelEncoder\n",
        "\n",
        "le = LabelEncoder()"
      ]
    },
    {
      "cell_type": "markdown",
      "metadata": {},
      "source": [
        "Label Encoding for seller type"
      ]
    },
    {
      "cell_type": "code",
      "execution_count": null,
      "metadata": {},
      "outputs": [],
      "source": [
        "df[\"seller_type\"] = le.fit_transform(df[\"seller_type\"])\n",
        "df[\"seller_type\"].unique()"
      ]
    },
    {
      "cell_type": "code",
      "execution_count": null,
      "metadata": {
        "colab": {
          "base_uri": "https://localhost:8080/"
        },
        "id": "8QO6p5in1VOL",
        "outputId": "296c8fbf-28c6-47db-bee3-aec1bb6e8b5e"
      },
      "outputs": [],
      "source": [
        "le.classes_"
      ]
    },
    {
      "cell_type": "code",
      "execution_count": null,
      "metadata": {
        "colab": {
          "base_uri": "https://localhost:8080/"
        },
        "id": "Lb-wyrtU1Y4c",
        "outputId": "35a96cb5-df1c-43dc-fb59-4435b4257109"
      },
      "outputs": [],
      "source": [
        "le.transform([\"Dealer\", \"Individual\", \"Trustmark Dealer\"])"
      ]
    },
    {
      "cell_type": "markdown",
      "metadata": {},
      "source": [
        "Label Encoding for fuel type"
      ]
    },
    {
      "cell_type": "code",
      "execution_count": null,
      "metadata": {
        "colab": {
          "base_uri": "https://localhost:8080/"
        },
        "id": "uPy0ykMQakfh",
        "outputId": "cc418dc6-7bc6-4599-cb89-1958a6514fdc"
      },
      "outputs": [],
      "source": [
        "df['fuel'] = le.fit_transform(df['fuel'])\n",
        "df['fuel'].unique()"
      ]
    },
    {
      "cell_type": "code",
      "execution_count": null,
      "metadata": {
        "colab": {
          "base_uri": "https://localhost:8080/"
        },
        "id": "0fqSIVOW2YDP",
        "outputId": "93bb28a5-fb07-4e40-aed1-8669d4aa3424"
      },
      "outputs": [],
      "source": [
        "le.classes_"
      ]
    },
    {
      "cell_type": "code",
      "execution_count": null,
      "metadata": {
        "colab": {
          "base_uri": "https://localhost:8080/"
        },
        "id": "1D1dh4Ao33Wi",
        "outputId": "d86312ee-8f97-4f0c-9a4b-3b228c542745"
      },
      "outputs": [],
      "source": [
        "le.transform(['Diesel', 'Petrol'])"
      ]
    },
    {
      "cell_type": "markdown",
      "metadata": {},
      "source": [
        "Label Encoding for feature transmission"
      ]
    },
    {
      "cell_type": "code",
      "execution_count": null,
      "metadata": {
        "colab": {
          "base_uri": "https://localhost:8080/"
        },
        "id": "0mzHRWWR4Dvp",
        "outputId": "125606d2-8c50-4b9f-c105-7b9ea12e5426"
      },
      "outputs": [],
      "source": [
        "df['transmission'] = le.fit_transform(df['transmission'])\n",
        "df['transmission'].unique()"
      ]
    },
    {
      "cell_type": "code",
      "execution_count": null,
      "metadata": {
        "colab": {
          "base_uri": "https://localhost:8080/"
        },
        "id": "olfVjT1m4McK",
        "outputId": "d141621b-dd4d-44c2-d3bb-89081db8d407"
      },
      "outputs": [],
      "source": [
        "le.classes_"
      ]
    },
    {
      "cell_type": "code",
      "execution_count": null,
      "metadata": {
        "colab": {
          "base_uri": "https://localhost:8080/"
        },
        "id": "fRn76F8i4a8P",
        "outputId": "446e5e16-6a10-4909-b6ea-92952daa7cd0"
      },
      "outputs": [],
      "source": [
        "le.transform(['Automatic', 'Manual'])"
      ]
    },
    {
      "cell_type": "markdown",
      "metadata": {},
      "source": [
        "Label Encoding for feature owner"
      ]
    },
    {
      "cell_type": "code",
      "execution_count": null,
      "metadata": {
        "colab": {
          "base_uri": "https://localhost:8080/"
        },
        "id": "jDXJufyWYxS9",
        "outputId": "5facfbd9-2410-47be-f18e-1270a6a0e4ac"
      },
      "outputs": [],
      "source": [
        "df['owner'].unique()"
      ]
    },
    {
      "cell_type": "code",
      "execution_count": null,
      "metadata": {
        "id": "s6-XEQ75ZBFP"
      },
      "outputs": [],
      "source": [
        "mapping = {\n",
        "    'First Owner': 1,\n",
        "    'Second Owner': 2,\n",
        "    'Third Owner': 3,\n",
        "    'Fourth & Above Owner': 4,\n",
        "    'Test Drive Car': 5\n",
        "}\n",
        "\n",
        "df['owner'] = df['owner'].map(lambda x : mapping[x])\n",
        "\n",
        "# Removing the rows with Test Drive Car value\n",
        "df = df[~df['owner'].isin([5])]"
      ]
    },
    {
      "cell_type": "markdown",
      "metadata": {},
      "source": [
        "Label Encoding for feature name"
      ]
    },
    {
      "cell_type": "code",
      "execution_count": null,
      "metadata": {
        "colab": {
          "base_uri": "https://localhost:8080/"
        },
        "id": "vp926_l91fJy",
        "outputId": "8248354e-76b1-4ab0-ea8e-b67c081aa0c2"
      },
      "outputs": [],
      "source": [
        "# Lets look into how many unqiue brand names we have\n",
        "df['name'].unique()"
      ]
    },
    {
      "cell_type": "code",
      "execution_count": null,
      "metadata": {
        "colab": {
          "base_uri": "https://localhost:8080/"
        },
        "id": "C919m8HH11_3",
        "outputId": "6ac1e702-f3b4-4878-c6cf-1cb0f439ab95"
      },
      "outputs": [],
      "source": [
        "df['name'] = le.fit_transform(df['name'])\n",
        "df['name'].unique()"
      ]
    },
    {
      "cell_type": "code",
      "execution_count": null,
      "metadata": {
        "colab": {
          "base_uri": "https://localhost:8080/"
        },
        "id": "D0hKf_Eo2Jri",
        "outputId": "c22f70dc-c0e9-4b6d-c23e-37973ab0c5bf"
      },
      "outputs": [],
      "source": [
        "le.classes_"
      ]
    },
    {
      "cell_type": "code",
      "execution_count": null,
      "metadata": {
        "colab": {
          "base_uri": "https://localhost:8080/"
        },
        "id": "LyaPeEVF2MCF",
        "outputId": "62d55d45-b22c-4b29-ff81-fbffe26863fc"
      },
      "outputs": [],
      "source": [
        "le.transform(['Ambassador', 'Ashok', 'Audi', 'BMW', 'Chevrolet', 'Daewoo',\n",
        "       'Datsun', 'Fiat', 'Force', 'Ford', 'Honda', 'Hyundai', 'Isuzu',\n",
        "       'Jaguar', 'Jeep', 'Kia', 'Land', 'Lexus', 'MG', 'Mahindra',\n",
        "       'Maruti', 'Mercedes-Benz', 'Mitsubishi', 'Nissan', 'Opel',\n",
        "       'Renault', 'Skoda', 'Tata', 'Toyota', 'Volkswagen', 'Volvo'])"
      ]
    },
    {
      "cell_type": "markdown",
      "metadata": {},
      "source": [
        "Now that all the categorical labels have been encoded into integer values, lets look into our current data"
      ]
    },
    {
      "cell_type": "code",
      "execution_count": null,
      "metadata": {},
      "outputs": [],
      "source": [
        "df.head()"
      ]
    },
    {
      "cell_type": "markdown",
      "metadata": {},
      "source": [
        "Now the correlation matrix will display the values for these converted features as well"
      ]
    },
    {
      "cell_type": "code",
      "execution_count": null,
      "metadata": {},
      "outputs": [],
      "source": [
        "plt.figure(figsize = (15, 8))\n",
        "sns.heatmap(df.corr(), annot=True, cmap=\"coolwarm\")"
      ]
    },
    {
      "cell_type": "markdown",
      "metadata": {},
      "source": [
        "The most correlated features are still found to be engine and max_power"
      ]
    },
    {
      "cell_type": "markdown",
      "metadata": {
        "id": "dYNgpvmi2p3d"
      },
      "source": [
        "**Predictive Power Socre**\n",
        "\n",
        "Let's check the predictive power scores of features. This graph plots the direct predictive power of a feature against another feature."
      ]
    },
    {
      "cell_type": "code",
      "execution_count": null,
      "metadata": {
        "colab": {
          "base_uri": "https://localhost:8080/",
          "height": 684
        },
        "id": "spyfAlKA2wHd",
        "outputId": "38e1bb34-938c-4a53-d263-3b645cfbba94"
      },
      "outputs": [],
      "source": [
        "import ppscore as pps\n",
        "\n",
        "dfcopy = df.copy()\n",
        "\n",
        "matrix_df = pps.matrix(dfcopy)[['x', 'y', 'ppscore']].pivot(columns='x', index='y', values='ppscore')\n",
        "\n",
        "#plot\n",
        "plt.figure(figsize = (15,8))\n",
        "sns.heatmap(matrix_df, vmin=0, vmax=1, cmap=\"Blues\", linewidths=0.5, annot=True)"
      ]
    },
    {
      "cell_type": "markdown",
      "metadata": {
        "id": "doWfAZEUZ99a"
      },
      "source": [
        "**Feature Selection**"
      ]
    },
    {
      "cell_type": "code",
      "execution_count": null,
      "metadata": {
        "id": "4Ml5slJqaAFF"
      },
      "outputs": [],
      "source": [
        "# According the PPS graph, the most strong features are engine and max_power with scores 0.45 and 0.62 respectively\n",
        "# Therefore, x is set to those features\n",
        "\n",
        "X = df[['max_power', 'mileage']]\n",
        "\n",
        "# y is the selling price. As selling price values are too big, they will transformed with log\n",
        "y = np.log(df['selling_price'])"
      ]
    },
    {
      "cell_type": "markdown",
      "metadata": {
        "id": "WQPVICVlaobx"
      },
      "source": [
        "**Test Train Split**"
      ]
    },
    {
      "cell_type": "code",
      "execution_count": null,
      "metadata": {
        "id": "Pa6oFwowarIy"
      },
      "outputs": [],
      "source": [
        "from sklearn.model_selection import train_test_split\n",
        "\n",
        "X_train, X_test, y_train, y_test = train_test_split(X, y, test_size = 0.3, random_state = 42)"
      ]
    },
    {
      "cell_type": "markdown",
      "metadata": {
        "id": "wwCGD6lQbEi1"
      },
      "source": [
        "**Preprocessing**\n",
        "\n",
        "Nullvalues"
      ]
    },
    {
      "cell_type": "code",
      "execution_count": null,
      "metadata": {
        "colab": {
          "base_uri": "https://localhost:8080/"
        },
        "id": "czxmwaZSbHZF",
        "outputId": "66ec89af-ec75-4ae0-e26d-8bf90cd33d93"
      },
      "outputs": [],
      "source": [
        "# Checking for null values\n",
        "\n",
        "X_train[['max_power', 'mileage']].isna().sum()"
      ]
    },
    {
      "cell_type": "code",
      "execution_count": null,
      "metadata": {
        "colab": {
          "base_uri": "https://localhost:8080/"
        },
        "id": "9Bn7lcNkbNeS",
        "outputId": "e7e6c9ae-fd86-4a8a-abcd-889cd920d756"
      },
      "outputs": [],
      "source": [
        "X_test[['max_power', 'mileage']].isna().sum()"
      ]
    },
    {
      "cell_type": "code",
      "execution_count": null,
      "metadata": {
        "colab": {
          "base_uri": "https://localhost:8080/"
        },
        "id": "4Ok3qLI-bXEx",
        "outputId": "7395b72f-738d-4c3b-dad6-786702b95560"
      },
      "outputs": [],
      "source": [
        "y_train.isna().sum()\n",
        "y_test.isna().sum()"
      ]
    },
    {
      "cell_type": "code",
      "execution_count": null,
      "metadata": {
        "colab": {
          "base_uri": "https://localhost:8080/",
          "height": 523
        },
        "id": "nsPc49mbbe0s",
        "outputId": "7703b2ea-db7e-42c6-a6fe-3f7fe38922ed"
      },
      "outputs": [],
      "source": [
        "sns.displot(data=df, x='engine')"
      ]
    },
    {
      "cell_type": "code",
      "execution_count": null,
      "metadata": {
        "colab": {
          "base_uri": "https://localhost:8080/",
          "height": 523
        },
        "id": "c9Oqo2cEbi3b",
        "outputId": "e9612d7d-6518-460c-a82a-ac47c3cc6339"
      },
      "outputs": [],
      "source": [
        "sns.displot(data=df, x = 'max_power')"
      ]
    },
    {
      "cell_type": "code",
      "execution_count": null,
      "metadata": {},
      "outputs": [],
      "source": [
        "sns.displot(data=df, x = 'mileage')"
      ]
    },
    {
      "cell_type": "code",
      "execution_count": null,
      "metadata": {
        "colab": {
          "base_uri": "https://localhost:8080/",
          "height": 523
        },
        "id": "mDYpdYoQb4lE",
        "outputId": "03d0c72b-2e88-4d32-e14b-6c7566a21de9"
      },
      "outputs": [],
      "source": [
        "sns.displot(y_train)"
      ]
    },
    {
      "cell_type": "code",
      "execution_count": null,
      "metadata": {},
      "outputs": [],
      "source": [
        "#let's fill the training set first!\n",
        "# X_train['engine'].fillna(X_train['engine'].median(), inplace=True)\n",
        "X_train['max_power'].fillna(X_train['max_power'].median(), inplace=True)\n",
        "X_train['mileage'].fillna(X_train['mileage'].median(), inplace=True)"
      ]
    },
    {
      "cell_type": "code",
      "execution_count": null,
      "metadata": {},
      "outputs": [],
      "source": [
        "# X_test['engine'].fillna(X_test['engine'].median(), inplace=True)\n",
        "X_test['max_power'].fillna(X_test['max_power'].median(), inplace=True)\n",
        "X_test['mileage'].fillna(X_test['mileage'].median(), inplace=True)"
      ]
    },
    {
      "cell_type": "code",
      "execution_count": null,
      "metadata": {},
      "outputs": [],
      "source": [
        "# Checking for null values\n",
        "\n",
        "X_train[['max_power', 'mileage']].isna().sum()"
      ]
    },
    {
      "cell_type": "code",
      "execution_count": null,
      "metadata": {},
      "outputs": [],
      "source": [
        "X_test[['max_power', 'mileage']].isna().sum()"
      ]
    },
    {
      "cell_type": "markdown",
      "metadata": {
        "id": "fbgXJpeVd8cN"
      },
      "source": [
        "**Checking Outliers**"
      ]
    },
    {
      "cell_type": "code",
      "execution_count": null,
      "metadata": {
        "colab": {
          "base_uri": "https://localhost:8080/",
          "height": 146
        },
        "id": "2Et5dokLd_EF",
        "outputId": "3e5d9bae-1e64-44f3-fd80-3a962aa55046"
      },
      "outputs": [],
      "source": [
        "# Create a dictionary of columns\n",
        "\n",
        "col_dict = {'max_power': 1, 'mileage': 2}\n",
        "\n",
        "# Box plots to detect outliers in each variables\n",
        "\n",
        "for variable, i in col_dict.items():\n",
        "  plt.subplot(5,4,i)\n",
        "  plt.boxplot(X_train[variable])\n",
        "  plt.title(variable)\n",
        "\n",
        "plt.show()"
      ]
    },
    {
      "cell_type": "code",
      "execution_count": null,
      "metadata": {
        "id": "s_mK8Skxedti"
      },
      "outputs": [],
      "source": [
        "def outlier_count(col, data = X_train):\n",
        "\n",
        "    # calculate your 25% quatile and 75% quatile\n",
        "    q75, q25 = np.percentile(data[col], [75, 25])\n",
        "\n",
        "    # calculate your inter quatile\n",
        "    iqr = q75 - q25\n",
        "\n",
        "    # min_val and max_val\n",
        "    min_val = q25 - (iqr*1.5)\n",
        "    max_val = q75 + (iqr*1.5)\n",
        "\n",
        "    # count number of outliers, which are the data that are less than min_val or more than max_val calculated above\n",
        "    outlier_count = len(np.where((data[col] > max_val) | (data[col] < min_val))[0])\n",
        "\n",
        "    # calculate the percentage of the outliers\n",
        "    outlier_percent = round(outlier_count/len(data[col])*100, 2)\n",
        "\n",
        "    if(outlier_count > 0):\n",
        "        print(\"\\n\"+15*'-' + col + 15*'-'+\"\\n\")\n",
        "        print('Number of outliers: {}'.format(outlier_count))\n",
        "        print('Percent of data that is outlier: {}%'.format(outlier_percent))"
      ]
    },
    {
      "cell_type": "code",
      "execution_count": null,
      "metadata": {
        "colab": {
          "base_uri": "https://localhost:8080/"
        },
        "id": "nMFkBuh3eoZY",
        "outputId": "8e258268-18a1-4edc-92f2-1dad56546d61"
      },
      "outputs": [],
      "source": [
        "for col in X_train.columns:\n",
        "    outlier_count(col)"
      ]
    },
    {
      "cell_type": "markdown",
      "metadata": {
        "id": "IvFBJNEPetpB"
      },
      "source": [
        "**Scaling**"
      ]
    },
    {
      "cell_type": "code",
      "execution_count": null,
      "metadata": {
        "id": "TsEC7SW1evOy"
      },
      "outputs": [],
      "source": [
        "from sklearn.preprocessing import StandardScaler\n",
        "\n",
        "# feature scaling helps improve reach convergence faster\n",
        "scaler = StandardScaler()\n",
        "X_train = scaler.fit_transform(X_train)\n",
        "X_test  = scaler.transform(X_test)"
      ]
    },
    {
      "cell_type": "code",
      "execution_count": null,
      "metadata": {
        "colab": {
          "base_uri": "https://localhost:8080/"
        },
        "id": "PFJB3TCXey4Q",
        "outputId": "7f71af7c-abee-4f5e-fb0d-303c24a29933"
      },
      "outputs": [],
      "source": [
        "# Let's check shapes of all X_train, X_test, y_train, y_test\n",
        "print(\"Shape of X_train: \", X_train.shape)\n",
        "print(\"Shape of X_test: \", X_test.shape)\n",
        "print(\"Shape of y_train: \", y_train.shape)\n",
        "print(\"Shape of y_test: \", y_test.shape)"
      ]
    },
    {
      "cell_type": "markdown",
      "metadata": {
        "id": "5ABhjjc5e68W"
      },
      "source": [
        "**Modeling**"
      ]
    },
    {
      "cell_type": "code",
      "execution_count": null,
      "metadata": {
        "colab": {
          "base_uri": "https://localhost:8080/"
        },
        "id": "trBvOgmwe8Es",
        "outputId": "ff30d6d3-7ac6-4698-b820-71dd372c5d4c"
      },
      "outputs": [],
      "source": [
        "from sklearn.linear_model import LinearRegression  #we are using regression models\n",
        "from sklearn.metrics import mean_squared_error, r2_score\n",
        "\n",
        "lr = LinearRegression()\n",
        "lr.fit(X_train, y_train)\n",
        "yhat = lr.predict(X_test)\n",
        "\n",
        "print(\"MSE: \", mean_squared_error(y_test, yhat))\n",
        "print(\"r2: \", r2_score(y_test, yhat))"
      ]
    },
    {
      "cell_type": "markdown",
      "metadata": {
        "id": "kqlLLP7pfJxo"
      },
      "source": [
        "Cross validation + Grid Search"
      ]
    },
    {
      "cell_type": "code",
      "execution_count": null,
      "metadata": {
        "id": "Hsx4JnoDfMAA"
      },
      "outputs": [],
      "source": [
        "from sklearn.linear_model import LinearRegression\n",
        "from sklearn.svm import SVR\n",
        "from sklearn.neighbors import KNeighborsRegressor\n",
        "from sklearn.tree import DecisionTreeRegressor\n",
        "from sklearn.ensemble import RandomForestRegressor\n",
        "from xgboost import XGBRegressor\n",
        "\n",
        "# Libraries for model evaluation\n",
        "\n",
        "# models that we will be using, put them in a list\n",
        "algorithms = [\n",
        "    LinearRegression(),\n",
        "    SVR(),\n",
        "    KNeighborsRegressor(),\n",
        "    DecisionTreeRegressor(random_state = 0),\n",
        "    RandomForestRegressor(n_estimators = 200, random_state = 42),\n",
        "    XGBRegressor(n_estimators = 200, random_state = 42)\n",
        "]\n",
        "\n",
        "# The names of the models\n",
        "algorithm_names = [\n",
        "    \"Linear Regression\",\n",
        "    \"SVR\",\n",
        "    \"KNeighbors Regressor\",\n",
        "    \"Decision-Tree Regressor\",\n",
        "    \"Random-Forest Regressor\",\n",
        "    \"XGBregressor\"\n",
        "]"
      ]
    },
    {
      "cell_type": "code",
      "execution_count": null,
      "metadata": {
        "colab": {
          "base_uri": "https://localhost:8080/"
        },
        "id": "VByiRqR_fQGK",
        "outputId": "d1c2c455-a307-4f27-d0a3-3a3e72f46311"
      },
      "outputs": [],
      "source": [
        "y_train.isna().sum()"
      ]
    },
    {
      "cell_type": "code",
      "execution_count": null,
      "metadata": {
        "colab": {
          "base_uri": "https://localhost:8080/"
        },
        "id": "tbDk3Lh3fSiI",
        "outputId": "d5b71e5f-bbdb-4015-b7d5-e500b4e938dc"
      },
      "outputs": [],
      "source": [
        "from sklearn.model_selection import KFold, cross_val_score\n",
        "\n",
        "#lists for keeping mse\n",
        "train_mse = []\n",
        "test_mse = []\n",
        "\n",
        "#defining splits\n",
        "kfold = KFold(n_splits=10, shuffle=True)\n",
        "\n",
        "for i, model in enumerate(algorithms):\n",
        "    scores = cross_val_score(model, X_train, y_train, cv=kfold, scoring='neg_mean_squared_error')\n",
        "    print(f\"{algorithm_names[i]} - Score: {scores}; Mean: {scores.mean()}\")"
      ]
    },
    {
      "cell_type": "code",
      "execution_count": null,
      "metadata": {},
      "outputs": [],
      "source": [
        "# Here we find the Random Foest Regressor has lowest score so we find the best version of the model\n",
        "\n",
        "from sklearn.model_selection import GridSearchCV\n",
        "\n",
        "param_grid = {'max_depth': [5, 10, None],\n",
        "              'n_estimators': [100, 200, 300, 400, 500],\n",
        "              'learning_rate': [0.1, 0.2]\n",
        "}\n",
        "\n",
        "xgb = XGBRegressor(random_state = 42)\n",
        "\n",
        "grid = GridSearchCV(estimator = xgb,\n",
        "                    param_grid = param_grid,\n",
        "                    cv = kfold,\n",
        "                    n_jobs = -1,\n",
        "                    return_train_score=True,\n",
        "                    refit=True,\n",
        "                    scoring='neg_mean_squared_error')\n",
        "\n",
        "# Fit your grid_search\n",
        "grid.fit(X_train, y_train);  #fit means start looping all the possible parameters"
      ]
    },
    {
      "cell_type": "code",
      "execution_count": null,
      "metadata": {
        "id": "lZOG5hcifU04"
      },
      "outputs": [],
      "source": [
        "# # Here we find the Random Foest Regressor has lowest score so we find the best version of the model\n",
        "\n",
        "# from sklearn.model_selection import GridSearchCV\n",
        "\n",
        "# param_grid = {'bootstrap': [True], 'max_depth': [5, 10, None],\n",
        "#               'n_estimators': [5, 6, 7, 8, 9, 10, 11, 12, 13, 15]}\n",
        "\n",
        "# rf = RandomForestRegressor(random_state = 1)\n",
        "\n",
        "# grid = GridSearchCV(estimator = rf,\n",
        "#                     param_grid = param_grid,\n",
        "#                     cv = kfold,\n",
        "#                     n_jobs = -1,\n",
        "#                     return_train_score=True,\n",
        "#                     refit=True,\n",
        "#                     scoring='neg_mean_squared_error')\n",
        "\n",
        "# # Fit your grid_search\n",
        "# grid.fit(X_train, y_train);  #fit means start looping all the possible parameters"
      ]
    },
    {
      "cell_type": "code",
      "execution_count": null,
      "metadata": {
        "colab": {
          "base_uri": "https://localhost:8080/"
        },
        "id": "Z3sIxraofy5E",
        "outputId": "80e01948-ed17-4187-d4de-2a6b141f4e1b"
      },
      "outputs": [],
      "source": [
        "grid.best_params_"
      ]
    },
    {
      "cell_type": "code",
      "execution_count": null,
      "metadata": {
        "colab": {
          "base_uri": "https://localhost:8080/"
        },
        "id": "_C7dlQvdf6j2",
        "outputId": "8790860f-a69a-4678-a92b-8312845f1455"
      },
      "outputs": [],
      "source": [
        "best_mse = grid.best_score_\n",
        "best_mse"
      ]
    },
    {
      "cell_type": "markdown",
      "metadata": {
        "id": "Ijiqs9AfgD2c"
      },
      "source": [
        "**Testing**"
      ]
    },
    {
      "cell_type": "code",
      "execution_count": null,
      "metadata": {
        "colab": {
          "base_uri": "https://localhost:8080/"
        },
        "id": "qsyx4qkdgFdx",
        "outputId": "0e3653e0-75db-49c2-d538-81ef5391009a"
      },
      "outputs": [],
      "source": [
        "yhat = grid.predict(X_test)\n",
        "\n",
        "mean_squared_error(y_test, yhat)"
      ]
    },
    {
      "cell_type": "code",
      "execution_count": null,
      "metadata": {},
      "outputs": [],
      "source": [
        "yhat_exp = np.exp(yhat)\n",
        "y_test_exp = np.exp(y_test)\n",
        "\n",
        "mean_squared_error(y_test_exp, yhat_exp)"
      ]
    },
    {
      "cell_type": "markdown",
      "metadata": {
        "id": "x7mE9cdqhJjA"
      },
      "source": [
        "**Inference**"
      ]
    },
    {
      "cell_type": "code",
      "execution_count": null,
      "metadata": {
        "id": "oQ2oEeYuhQxT"
      },
      "outputs": [],
      "source": [
        "import pickle\n",
        "\n",
        "filename = 'app/model/selling-price.model'\n",
        "pickle.dump(grid, open(filename, 'wb'))"
      ]
    },
    {
      "cell_type": "code",
      "execution_count": null,
      "metadata": {
        "id": "7r5KbnN-hZ82"
      },
      "outputs": [],
      "source": [
        "loaded_model = pickle.load(open(filename, 'rb'))"
      ]
    },
    {
      "cell_type": "code",
      "execution_count": null,
      "metadata": {
        "colab": {
          "base_uri": "https://localhost:8080/"
        },
        "id": "nuZe1MmCh6pD",
        "outputId": "a08cd466-0995-4859-91f7-541ee3243333"
      },
      "outputs": [],
      "source": [
        "df[['max_power', 'mileage', 'selling_price']].loc(1)"
      ]
    },
    {
      "cell_type": "code",
      "execution_count": null,
      "metadata": {
        "id": "-zMttUgMhfra"
      },
      "outputs": [],
      "source": [
        "predicted_selling_price = loaded_model.predict(np.array([[74, 23]]))"
      ]
    },
    {
      "cell_type": "code",
      "execution_count": null,
      "metadata": {
        "colab": {
          "base_uri": "https://localhost:8080/"
        },
        "id": "yLgzi3RpiCoW",
        "outputId": "a2e16240-be91-450a-cdd2-33871a5e02d7"
      },
      "outputs": [],
      "source": [
        "predicted_selling_price"
      ]
    },
    {
      "cell_type": "code",
      "execution_count": null,
      "metadata": {
        "colab": {
          "base_uri": "https://localhost:8080/"
        },
        "id": "azInO3VhiKL1",
        "outputId": "c89ba08b-752a-494d-eca8-f574da26b4fa"
      },
      "outputs": [],
      "source": [
        "np.exp(predicted_selling_price)"
      ]
    },
    {
      "cell_type": "code",
      "execution_count": null,
      "metadata": {},
      "outputs": [],
      "source": [
        "\n"
      ]
    }
  ],
  "metadata": {
    "colab": {
      "provenance": []
    },
    "kernelspec": {
      "display_name": "Python 3",
      "name": "python3"
    },
    "language_info": {
      "codemirror_mode": {
        "name": "ipython",
        "version": 3
      },
      "file_extension": ".py",
      "mimetype": "text/x-python",
      "name": "python",
      "nbconvert_exporter": "python",
      "pygments_lexer": "ipython3",
      "version": "3.9.6"
    }
  },
  "nbformat": 4,
  "nbformat_minor": 0
}
